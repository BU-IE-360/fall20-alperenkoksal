{
 "cells": [
  {
   "cell_type": "markdown",
   "metadata": {},
   "source": [
    "## IE 360 Term Project\n",
    "                                                                                                     Alperen Köksal\n",
    "                                                                                                     Ekrem Barış Kuyucu"
   ]
  },
  {
   "cell_type": "markdown",
   "metadata": {},
   "source": [
    "### Introduction\n",
    "\n",
    "Electricity is used in every part of one's life. Most of the technological devices need electricity in order to perform their functions. EPİAŞ (Enerji Piyasaları İşletme A.Ş.) is a company that provides hourly electricity consumption data of Turkey. In this project, we were expected to forecast the hourly electricity consumption of Turkey.\n",
    "\n",
    "Historical electricity consumption data from 01 January 2017 were given in dataset. The provided data also included hourly temperature values for 7 different locations that may help to explain the behavior of electricity consumption time series."
   ]
  },
  {
   "cell_type": "code",
   "execution_count": 1,
   "metadata": {},
   "outputs": [
    {
     "name": "stderr",
     "output_type": "stream",
     "text": [
      "Registered S3 method overwritten by 'quantmod':\n",
      "  method            from\n",
      "  as.zoo.data.frame zoo \n",
      "\n"
     ]
    }
   ],
   "source": [
    "library(ggplot2,quietly = TRUE,warn.conflicts = FALSE)\n",
    "library(forecast,quietly = TRUE,warn.conflicts = FALSE)\n",
    "library(zoo,quietly = TRUE,warn.conflicts = FALSE)\n",
    "library(lubridate,quietly = TRUE,warn.conflicts = FALSE)\n",
    "library(jsonlite,quietly = TRUE,warn.conflicts = FALSE)\n",
    "library(httr,quietly = TRUE,warn.conflicts = FALSE)\n",
    "library(data.table,quietly = TRUE,warn.conflicts = FALSE)\n",
    "\n",
    "get_token <- function(username, password, url_site){\n",
    "    \n",
    "    post_body = list(username=username,password=password)\n",
    "    post_url_string = paste0(url_site,'/token/')\n",
    "    result = POST(post_url_string, body = post_body)\n",
    "\n",
    "    # error handling (wrong credentials)\n",
    "    if(result$status_code==400){\n",
    "        print('Check your credentials')\n",
    "        return(0)\n",
    "    }\n",
    "    else if (result$status_code==201){\n",
    "        output = content(result)\n",
    "        token = output$key\n",
    "    }\n",
    "\n",
    "    return(token)\n",
    "}\n",
    "\n",
    "get_data <- function(start_date='2020-03-20', token, url_site){\n",
    "    \n",
    "    post_body = list(start_date=start_date,username=username,password=password)\n",
    "    post_url_string = paste0(url_site,'/dataset/')\n",
    "    \n",
    "    header = add_headers(c(Authorization=paste('Token',token,sep=' ')))\n",
    "    result = GET(post_url_string, header, body = post_body)\n",
    "    output = content(result)\n",
    "    data = data.table::rbindlist(output)\n",
    "    data[,event_date:=as.Date(event_date)]\n",
    "    data = data[order(event_date)]\n",
    "    return(data)\n",
    "}\n",
    "\n",
    "\n",
    "send_submission <- function(predictions, token, url_site, submit_now=F){\n",
    "    \n",
    "    format_check=check_format(predictions)\n",
    "    if(!format_check){\n",
    "        return(FALSE)\n",
    "    }\n",
    "    \n",
    "    post_string=\"list(\"\n",
    "    for(i in 1:nrow(predictions)){\n",
    "        if(i<nrow(predictions)){\n",
    "            post_string=sprintf(\"%s%s,\",post_string,predictions$forecast[i])\n",
    "        } else {\n",
    "            post_string=sprintf(\"%s%s)\",post_string,predictions$forecast[i])\n",
    "        }\n",
    "    }\n",
    "    \n",
    "    submission = eval(parse(text=post_string))\n",
    "    json_body = jsonlite::toJSON(submission, auto_unbox = TRUE)\n",
    "    submission=list(submission=json_body)\n",
    "    \n",
    "    print(submission)\n",
    "    # {\"31515569\":2.4,\"32939029\":2.4,\"4066298\":2.4,\"6676673\":2.4,\"7061886\":2.4,\"85004\":2.4} \n",
    "\n",
    "    if(!submit_now){\n",
    "        print(\"You did not submit.\")\n",
    "        return(FALSE)      \n",
    "    }\n",
    "    \n",
    "\n",
    "    header = add_headers(c(Authorization=paste('Token',token,sep=' ')))\n",
    "    post_url_string = paste0(url_site,'/submission/')\n",
    "    result = POST(post_url_string, header, body=submission)\n",
    "    \n",
    "    if (result$status_code==201){\n",
    "        print(\"Successfully submitted. Below you can see the details of your submission\")\n",
    "    } else {\n",
    "        print(\"Could not submit. Please check the error message below, contact the assistant if needed.\")\n",
    "    }\n",
    "    \n",
    "    print(content(result))\n",
    "    \n",
    "}\n",
    "\n",
    "check_format <- function(predictions){\n",
    "    \n",
    "    if(is.data.frame(predictions) | is.data.frame(predictions)){\n",
    "        if('forecast' %in% names(predictions)){\n",
    "            if(nrow(predictions)==24){\n",
    "                if(all(is.numeric(predictions$forecast))){\n",
    "                    print(\"Format OK\")\n",
    "                    return(TRUE)\n",
    "                } else {\n",
    "                    print(\"forecast information is not numeric\")\n",
    "                    return(FALSE)                \n",
    "                }\n",
    "            } else {\n",
    "                print(\"Forecasts for 24 hours should be provided, current number of rows:\")\n",
    "                print(nrow(predictions))\n",
    "                return(FALSE)     \n",
    "            }\n",
    "        } \n",
    "    } else {\n",
    "        print(\"Wrong format. Please provide data.frame or data.table object\")\n",
    "        return(FALSE)\n",
    "    }\n",
    "    \n",
    "}\n",
    "\n",
    "# this part is main code\n",
    "subm_url = 'http://46.101.124.77'\n",
    "\n",
    "u_name = \"Group7\"\n",
    "p_word = \"QofZvHEbYhRpN6Qv\"\n",
    "submit_now = FALSE\n",
    "\n",
    "username = u_name\n",
    "password = p_word\n",
    "\n",
    "token = get_token(username=u_name, password=p_word, url=subm_url)\n",
    "data = get_data(token=token,url=subm_url)\n",
    "\n",
    "# this part is where you need to provide your forecasting function / or set of R codes\n",
    "predictions=data.table(Date=rep(as.Date(Sys.time())+1,24),Hour=0:23)\n",
    "# be sure if ordered\n",
    "predictions=predictions[order(Date,Hour)]\n",
    "# dummy forecast\n",
    "predictions[,forecast:=1:24]\n",
    "\n",
    "#send_submission(predictions, token, url=subm_url, submit_now=F)\n",
    "    "
   ]
  },
  {
   "cell_type": "markdown",
   "metadata": {},
   "source": [
    "### Reading and manipulating the data\n",
    "\n",
    "bulk data provided by EPİAŞ is read and it is merged with the data provided by api. Some related variables are added to data table to use in basic linear regression model to find outliers and using in ARIMAX model."
   ]
  },
  {
   "cell_type": "code",
   "execution_count": 2,
   "metadata": {},
   "outputs": [],
   "source": [
    "setwd(\"C:/Users/a_kok/Desktop/Dersler/IE 360/Project\")\n",
    "consumption_and_temp <- fread(\"consumption_and_temp.csv\")\n",
    "consumption_and_temp[,Date:=as.Date(Date)]\n",
    "data = data[order(event_date,event_hour)]\n",
    "setnames(data,c(\"event_date\",\"event_hour\",\"consumption\",\"t_1\",\"t_2\",\"t_3\",\"t_4\",\"t_5\",\"t_6\",\"t_7\"),\n",
    "                c(\"Date\",\"Hour\",\"Consumption\",\"T_1\",\"T_2\",\"T_3\",\"T_4\",\"T_5\",\"T_6\",\"T_7\"))\n",
    "consumption_and_temp <- rbind(consumption_and_temp,data)\n",
    "consumption_and_temp[,weekdays:=weekdays(Date)]\n",
    "consumption_and_temp[,months:=as.factor(month(Date))]\n",
    "consumption_and_temp[,years:=year(Date)]\n",
    "consumption_and_temp[,trend:=1:.N]\n",
    "consumption_and_temp[,T_mean:=mean(c(T_1,T_2,T_3,T_4,T_5,T_6,T_7)),by = list(Date)]\n",
    "consumption_and_temp[,T_diff:=T_mean - shift(T_mean,24)]\n",
    "consumption_and_temp[,T1_max:=max(T_1),by = list(Date)]\n",
    "consumption_and_temp[,T2_max:=max(T_2),by = list(Date)]\n",
    "consumption_and_temp[,T3_max:=max(T_3),by = list(Date)]\n",
    "consumption_and_temp[,T4_max:=max(T_4),by = list(Date)]\n",
    "consumption_and_temp[,T5_max:=max(T_5),by = list(Date)]\n",
    "consumption_and_temp[,T6_max:=max(T_6),by = list(Date)]\n",
    "consumption_and_temp[,T7_max:=max(T_7),by = list(Date)]\n",
    "consumption_and_temp[,T3_diff:=T3_max - shift(T3_max,24)]\n",
    "consumption_and_temp[,T7_diff:=T7_max - shift(T7_max,24)]\n",
    "consumption_and_temp[,T3_diff_168:=T3_max - shift(T3_max,168)]\n",
    "consumption_and_temp[,timestamp:=ymd_h(paste(Date,Hour))]"
   ]
  },
  {
   "cell_type": "code",
   "execution_count": 3,
   "metadata": {},
   "outputs": [],
   "source": [
    "consumption_and_temp_train = consumption_and_temp[Date < \"2021-01-30\"]"
   ]
  },
  {
   "cell_type": "code",
   "execution_count": 4,
   "metadata": {},
   "outputs": [
    {
     "data": {
      "image/png": "[encoded data removed]",
      "text/plain": [
       "plot without title"
      ]
     },
     "metadata": {
      "image/png": {
       "height": 420,
       "width": 420
      }
     },
     "output_type": "display_data"
    }
   ],
   "source": [
    "ggplot(data = consumption_and_temp_train,aes(x=timestamp, y = Consumption)) + geom_line() +\n",
    "labs(title = \"Hourly Electricity Consumption Data\")"
   ]
  },
  {
   "cell_type": "markdown",
   "metadata": {},
   "source": [
    "## Effect of temperature\n",
    "\n",
    "When we plot electricity data and temperature values, relationship between consumption and temperature is observed. From the plot there can be seen that when temperature is between 20 and 30 degrees, consumption is observed less than other temperature values. The reason for this is that people tend to consume electricity for getting warmer or cooler, when temperature is not in this interval. So it is a good idea to use temperature values in the model.\n",
    "\n",
    "In this case using T3_max is the best option since its coefficient is lowest and it seems to explain the behavior of data better than other measures. It is decided by using each of them in linear regression models and comparing R squared values. Also maximum of daily temperature values are used since using hourly temperature values can be misleading.\n"
   ]
  },
  {
   "cell_type": "code",
   "execution_count": 5,
   "metadata": {},
   "outputs": [
    {
     "data": {
      "image/png": "[encoded data removed]",
      "text/plain": [
       "Plot with title \"Electricity Consumption Values versus Temperature Values\""
      ]
     },
     "metadata": {
      "image/png": {
       "height": 420,
       "width": 420
      }
     },
     "output_type": "display_data"
    }
   ],
   "source": [
    "plot(y = consumption_and_temp_train$Consumption,x = consumption_and_temp_train$T3_max,\n",
    "    main = \"Electricity Consumption Values versus Temperature Values\",\n",
    "    xlab = \"Temperature values\", ylab = \"Consumption Values\")"
   ]
  },
  {
   "cell_type": "code",
   "execution_count": 6,
   "metadata": {},
   "outputs": [
    {
     "data": {
      "text/plain": [
       "\n",
       "Call:\n",
       "lm(formula = Consumption ~ T1_max, data = consumption_and_temp_train)\n",
       "\n",
       "Residuals:\n",
       "     Min       1Q   Median       3Q      Max \n",
       "-17396.0  -3874.5     30.8   3698.1  15545.9 \n",
       "\n",
       "Coefficients:\n",
       "             Estimate Std. Error t value Pr(>|t|)    \n",
       "(Intercept) 31736.827     51.054  621.63   <2e-16 ***\n",
       "T1_max         55.289      2.996   18.46   <2e-16 ***\n",
       "---\n",
       "Signif. codes:  0 '***' 0.001 '**' 0.01 '*' 0.05 '.' 0.1 ' ' 1\n",
       "\n",
       "Residual standard error: 5040 on 35758 degrees of freedom\n",
       "Multiple R-squared:  0.009436,\tAdjusted R-squared:  0.009408 \n",
       "F-statistic: 340.6 on 1 and 35758 DF,  p-value: < 2.2e-16\n"
      ]
     },
     "metadata": {},
     "output_type": "display_data"
    },
    {
     "data": {
      "text/plain": [
       "\n",
       "Call:\n",
       "lm(formula = Consumption ~ T2_max, data = consumption_and_temp_train)\n",
       "\n",
       "Residuals:\n",
       "     Min       1Q   Median       3Q      Max \n",
       "-17311.7  -3885.5     26.9   3685.7  15268.4 \n",
       "\n",
       "Coefficients:\n",
       "             Estimate Std. Error t value Pr(>|t|)    \n",
       "(Intercept) 31461.004     79.596   395.3   <2e-16 ***\n",
       "T2_max         42.682      2.965    14.4   <2e-16 ***\n",
       "---\n",
       "Signif. codes:  0 '***' 0.001 '**' 0.01 '*' 0.05 '.' 0.1 ' ' 1\n",
       "\n",
       "Residual standard error: 5049 on 35758 degrees of freedom\n",
       "Multiple R-squared:  0.005762,\tAdjusted R-squared:  0.005735 \n",
       "F-statistic: 207.2 on 1 and 35758 DF,  p-value: < 2.2e-16\n"
      ]
     },
     "metadata": {},
     "output_type": "display_data"
    },
    {
     "data": {
      "text/plain": [
       "\n",
       "Call:\n",
       "lm(formula = Consumption ~ T3_max, data = consumption_and_temp_train)\n",
       "\n",
       "Residuals:\n",
       "     Min       1Q   Median       3Q      Max \n",
       "-17404.8  -3870.0     33.7   3703.2  15757.4 \n",
       "\n",
       "Coefficients:\n",
       "            Estimate Std. Error t value Pr(>|t|)    \n",
       "(Intercept) 31117.40      76.49  406.82   <2e-16 ***\n",
       "T3_max         61.53       3.10   19.85   <2e-16 ***\n",
       "---\n",
       "Signif. codes:  0 '***' 0.001 '**' 0.01 '*' 0.05 '.' 0.1 ' ' 1\n",
       "\n",
       "Residual standard error: 5036 on 35758 degrees of freedom\n",
       "Multiple R-squared:  0.0109,\tAdjusted R-squared:  0.01087 \n",
       "F-statistic: 393.9 on 1 and 35758 DF,  p-value: < 2.2e-16\n"
      ]
     },
     "metadata": {},
     "output_type": "display_data"
    },
    {
     "data": {
      "text/plain": [
       "\n",
       "Call:\n",
       "lm(formula = Consumption ~ T4_max, data = consumption_and_temp_train)\n",
       "\n",
       "Residuals:\n",
       "     Min       1Q   Median       3Q      Max \n",
       "-17249.4  -3891.4     33.9   3674.7  15442.4 \n",
       "\n",
       "Coefficients:\n",
       "             Estimate Std. Error t value Pr(>|t|)    \n",
       "(Intercept) 31898.440     54.729  582.85   <2e-16 ***\n",
       "T4_max         37.703      2.805   13.44   <2e-16 ***\n",
       "---\n",
       "Signif. codes:  0 '***' 0.001 '**' 0.01 '*' 0.05 '.' 0.1 ' ' 1\n",
       "\n",
       "Residual standard error: 5051 on 35758 degrees of freedom\n",
       "Multiple R-squared:  0.005027,\tAdjusted R-squared:  0.004999 \n",
       "F-statistic: 180.7 on 1 and 35758 DF,  p-value: < 2.2e-16\n"
      ]
     },
     "metadata": {},
     "output_type": "display_data"
    },
    {
     "data": {
      "text/plain": [
       "\n",
       "Call:\n",
       "lm(formula = Consumption ~ T5_max, data = consumption_and_temp_train)\n",
       "\n",
       "Residuals:\n",
       "     Min       1Q   Median       3Q      Max \n",
       "-17163.2  -3897.2     36.8   3674.5  15470.6 \n",
       "\n",
       "Coefficients:\n",
       "             Estimate Std. Error t value Pr(>|t|)    \n",
       "(Intercept) 31904.601     58.176   548.4   <2e-16 ***\n",
       "T5_max         35.547      2.889    12.3   <2e-16 ***\n",
       "---\n",
       "Signif. codes:  0 '***' 0.001 '**' 0.01 '*' 0.05 '.' 0.1 ' ' 1\n",
       "\n",
       "Residual standard error: 5053 on 35758 degrees of freedom\n",
       "Multiple R-squared:  0.004217,\tAdjusted R-squared:  0.004189 \n",
       "F-statistic: 151.4 on 1 and 35758 DF,  p-value: < 2.2e-16\n"
      ]
     },
     "metadata": {},
     "output_type": "display_data"
    },
    {
     "data": {
      "text/plain": [
       "\n",
       "Call:\n",
       "lm(formula = Consumption ~ T6_max, data = consumption_and_temp_train)\n",
       "\n",
       "Residuals:\n",
       "     Min       1Q   Median       3Q      Max \n",
       "-17278.4  -3895.8     29.6   3676.4  15520.2 \n",
       "\n",
       "Coefficients:\n",
       "             Estimate Std. Error t value Pr(>|t|)    \n",
       "(Intercept) 31889.244     53.544  595.57   <2e-16 ***\n",
       "T6_max         39.181      2.792   14.03   <2e-16 ***\n",
       "---\n",
       "Signif. codes:  0 '***' 0.001 '**' 0.01 '*' 0.05 '.' 0.1 ' ' 1\n",
       "\n",
       "Residual standard error: 5050 on 35758 degrees of freedom\n",
       "Multiple R-squared:  0.005477,\tAdjusted R-squared:  0.005449 \n",
       "F-statistic: 196.9 on 1 and 35758 DF,  p-value: < 2.2e-16\n"
      ]
     },
     "metadata": {},
     "output_type": "display_data"
    },
    {
     "data": {
      "text/plain": [
       "\n",
       "Call:\n",
       "lm(formula = Consumption ~ T7_max, data = consumption_and_temp_train)\n",
       "\n",
       "Residuals:\n",
       "     Min       1Q   Median       3Q      Max \n",
       "-17136.5  -3871.4     30.5   3693.9  15858.2 \n",
       "\n",
       "Coefficients:\n",
       "             Estimate Std. Error t value Pr(>|t|)    \n",
       "(Intercept) 31219.394     71.499  436.64   <2e-16 ***\n",
       "T7_max         70.053      3.519   19.91   <2e-16 ***\n",
       "---\n",
       "Signif. codes:  0 '***' 0.001 '**' 0.01 '*' 0.05 '.' 0.1 ' ' 1\n",
       "\n",
       "Residual standard error: 5036 on 35758 degrees of freedom\n",
       "Multiple R-squared:  0.01096,\tAdjusted R-squared:  0.01094 \n",
       "F-statistic: 396.4 on 1 and 35758 DF,  p-value: < 2.2e-16\n"
      ]
     },
     "metadata": {},
     "output_type": "display_data"
    }
   ],
   "source": [
    "fit <- lm(Consumption~T1_max,consumption_and_temp_train)\n",
    "\n",
    "summary(fit)\n",
    "\n",
    "fit <- lm(Consumption~T2_max,consumption_and_temp_train)\n",
    "\n",
    "summary(fit)\n",
    "\n",
    "fit <- lm(Consumption~T3_max,consumption_and_temp_train)\n",
    "\n",
    "summary(fit)\n",
    "\n",
    "fit <- lm(Consumption~T4_max,consumption_and_temp_train)\n",
    "\n",
    "summary(fit)\n",
    "\n",
    "fit <- lm(Consumption~T5_max,consumption_and_temp_train)\n",
    "\n",
    "summary(fit)\n",
    "\n",
    "fit <- lm(Consumption~T6_max,consumption_and_temp_train)\n",
    "\n",
    "summary(fit)\n",
    "\n",
    "fit <- lm(Consumption~T7_max,consumption_and_temp_train)\n",
    "\n",
    "summary(fit)"
   ]
  },
  {
   "cell_type": "markdown",
   "metadata": {},
   "source": [
    "## Outlier analysis\n",
    "\n",
    "When the electricity data is plotted, there were seen that some points are very different from the usual pattern of the data. With the use of a basic linear regression model, these points are found and analyzed. If the reason of this behavior is known, a dummy variable is given to the outlier point in order to eliminate the effect of these outlier points in predictions. From basic knowledge it is thought that special holidays may be the reason of these outlier points, such as: New year's eve, Ramadan fest, Kurban fest. \n",
    "\n",
    "It is known that outliers with lower values are these special holidays. For the outliers with higher values reasons are harder to find. So a dummy variable is given for all values that are bigger than %99 of residuals of basic linear regression model. "
   ]
  },
  {
   "cell_type": "code",
   "execution_count": 7,
   "metadata": {},
   "outputs": [
    {
     "data": {
      "text/html": [
       "<style>\n",
       ".list-inline {list-style: none; margin:0; padding: 0}\n",
       ".list-inline>li {display: inline-block}\n",
       ".list-inline>li:not(:last-child)::after {content: \"\\00b7\"; padding: 0 .5ex}\n",
       "</style>\n",
       "<ol class=list-inline><li><time datetime=\"2017-06-25\">2017-06-25</time></li><li><time datetime=\"2017-06-26\">2017-06-26</time></li><li><time datetime=\"2017-06-27\">2017-06-27</time></li><li><time datetime=\"2017-08-30\">2017-08-30</time></li><li><time datetime=\"2017-08-31\">2017-08-31</time></li><li><time datetime=\"2017-09-01\">2017-09-01</time></li><li><time datetime=\"2017-09-02\">2017-09-02</time></li><li><time datetime=\"2017-09-03\">2017-09-03</time></li><li><time datetime=\"2017-09-04\">2017-09-04</time></li></ol>\n"
      ],
      "text/latex": [
       "\\begin{enumerate*}\n",
       "\\item 2017-06-25\n",
       "\\item 2017-06-26\n",
       "\\item 2017-06-27\n",
       "\\item 2017-08-30\n",
       "\\item 2017-08-31\n",
       "\\item 2017-09-01\n",
       "\\item 2017-09-02\n",
       "\\item 2017-09-03\n",
       "\\item 2017-09-04\n",
       "\\end{enumerate*}\n"
      ],
      "text/markdown": [
       "1. 2017-06-25\n",
       "2. 2017-06-26\n",
       "3. 2017-06-27\n",
       "4. 2017-08-30\n",
       "5. 2017-08-31\n",
       "6. 2017-09-01\n",
       "7. 2017-09-02\n",
       "8. 2017-09-03\n",
       "9. 2017-09-04\n",
       "\n",
       "\n"
      ],
      "text/plain": [
       "[1] \"2017-06-25\" \"2017-06-26\" \"2017-06-27\" \"2017-08-30\" \"2017-08-31\"\n",
       "[6] \"2017-09-01\" \"2017-09-02\" \"2017-09-03\" \"2017-09-04\""
      ]
     },
     "metadata": {},
     "output_type": "display_data"
    },
    {
     "data": {
      "text/html": [
       "<style>\n",
       ".list-inline {list-style: none; margin:0; padding: 0}\n",
       ".list-inline>li {display: inline-block}\n",
       ".list-inline>li:not(:last-child)::after {content: \"\\00b7\"; padding: 0 .5ex}\n",
       "</style>\n",
       "<ol class=list-inline><li><time datetime=\"2018-01-01\">2018-01-01</time></li><li><time datetime=\"2018-06-14\">2018-06-14</time></li><li><time datetime=\"2018-06-15\">2018-06-15</time></li><li><time datetime=\"2018-06-16\">2018-06-16</time></li><li><time datetime=\"2018-08-20\">2018-08-20</time></li><li><time datetime=\"2018-08-21\">2018-08-21</time></li><li><time datetime=\"2018-08-22\">2018-08-22</time></li><li><time datetime=\"2018-08-23\">2018-08-23</time></li><li><time datetime=\"2018-08-24\">2018-08-24</time></li><li><time datetime=\"2018-08-25\">2018-08-25</time></li><li><time datetime=\"2018-10-29\">2018-10-29</time></li></ol>\n"
      ],
      "text/latex": [
       "\\begin{enumerate*}\n",
       "\\item 2018-01-01\n",
       "\\item 2018-06-14\n",
       "\\item 2018-06-15\n",
       "\\item 2018-06-16\n",
       "\\item 2018-08-20\n",
       "\\item 2018-08-21\n",
       "\\item 2018-08-22\n",
       "\\item 2018-08-23\n",
       "\\item 2018-08-24\n",
       "\\item 2018-08-25\n",
       "\\item 2018-10-29\n",
       "\\end{enumerate*}\n"
      ],
      "text/markdown": [
       "1. 2018-01-01\n",
       "2. 2018-06-14\n",
       "3. 2018-06-15\n",
       "4. 2018-06-16\n",
       "5. 2018-08-20\n",
       "6. 2018-08-21\n",
       "7. 2018-08-22\n",
       "8. 2018-08-23\n",
       "9. 2018-08-24\n",
       "10. 2018-08-25\n",
       "11. 2018-10-29\n",
       "\n",
       "\n"
      ],
      "text/plain": [
       " [1] \"2018-01-01\" \"2018-06-14\" \"2018-06-15\" \"2018-06-16\" \"2018-08-20\"\n",
       " [6] \"2018-08-21\" \"2018-08-22\" \"2018-08-23\" \"2018-08-24\" \"2018-08-25\"\n",
       "[11] \"2018-10-29\""
      ]
     },
     "metadata": {},
     "output_type": "display_data"
    },
    {
     "data": {
      "text/html": [
       "<style>\n",
       ".list-inline {list-style: none; margin:0; padding: 0}\n",
       ".list-inline>li {display: inline-block}\n",
       ".list-inline>li:not(:last-child)::after {content: \"\\00b7\"; padding: 0 .5ex}\n",
       "</style>\n",
       "<ol class=list-inline><li><time datetime=\"2019-01-01\">2019-01-01</time></li><li><time datetime=\"2019-06-03\">2019-06-03</time></li><li><time datetime=\"2019-06-04\">2019-06-04</time></li><li><time datetime=\"2019-06-05\">2019-06-05</time></li><li><time datetime=\"2019-06-06\">2019-06-06</time></li><li><time datetime=\"2019-06-07\">2019-06-07</time></li><li><time datetime=\"2019-07-15\">2019-07-15</time></li><li><time datetime=\"2019-08-10\">2019-08-10</time></li><li><time datetime=\"2019-08-11\">2019-08-11</time></li><li><time datetime=\"2019-08-12\">2019-08-12</time></li><li><time datetime=\"2019-08-13\">2019-08-13</time></li><li><time datetime=\"2019-08-14\">2019-08-14</time></li><li><time datetime=\"2019-10-29\">2019-10-29</time></li></ol>\n"
      ],
      "text/latex": [
       "\\begin{enumerate*}\n",
       "\\item 2019-01-01\n",
       "\\item 2019-06-03\n",
       "\\item 2019-06-04\n",
       "\\item 2019-06-05\n",
       "\\item 2019-06-06\n",
       "\\item 2019-06-07\n",
       "\\item 2019-07-15\n",
       "\\item 2019-08-10\n",
       "\\item 2019-08-11\n",
       "\\item 2019-08-12\n",
       "\\item 2019-08-13\n",
       "\\item 2019-08-14\n",
       "\\item 2019-10-29\n",
       "\\end{enumerate*}\n"
      ],
      "text/markdown": [
       "1. 2019-01-01\n",
       "2. 2019-06-03\n",
       "3. 2019-06-04\n",
       "4. 2019-06-05\n",
       "5. 2019-06-06\n",
       "6. 2019-06-07\n",
       "7. 2019-07-15\n",
       "8. 2019-08-10\n",
       "9. 2019-08-11\n",
       "10. 2019-08-12\n",
       "11. 2019-08-13\n",
       "12. 2019-08-14\n",
       "13. 2019-10-29\n",
       "\n",
       "\n"
      ],
      "text/plain": [
       " [1] \"2019-01-01\" \"2019-06-03\" \"2019-06-04\" \"2019-06-05\" \"2019-06-06\"\n",
       " [6] \"2019-06-07\" \"2019-07-15\" \"2019-08-10\" \"2019-08-11\" \"2019-08-12\"\n",
       "[11] \"2019-08-13\" \"2019-08-14\" \"2019-10-29\""
      ]
     },
     "metadata": {},
     "output_type": "display_data"
    },
    {
     "data": {
      "text/html": [
       "<style>\n",
       ".list-inline {list-style: none; margin:0; padding: 0}\n",
       ".list-inline>li {display: inline-block}\n",
       ".list-inline>li:not(:last-child)::after {content: \"\\00b7\"; padding: 0 .5ex}\n",
       "</style>\n",
       "<ol class=list-inline><li><time datetime=\"2020-01-01\">2020-01-01</time></li><li><time datetime=\"2020-03-31\">2020-03-31</time></li><li><time datetime=\"2020-04-07\">2020-04-07</time></li><li><time datetime=\"2020-04-08\">2020-04-08</time></li><li><time datetime=\"2020-04-09\">2020-04-09</time></li><li><time datetime=\"2020-04-10\">2020-04-10</time></li><li><time datetime=\"2020-04-11\">2020-04-11</time></li><li><time datetime=\"2020-04-12\">2020-04-12</time></li><li><time datetime=\"2020-04-13\">2020-04-13</time></li><li><time datetime=\"2020-04-14\">2020-04-14</time></li><li><time datetime=\"2020-04-15\">2020-04-15</time></li><li><time datetime=\"2020-04-16\">2020-04-16</time></li><li><time datetime=\"2020-04-17\">2020-04-17</time></li><li><time datetime=\"2020-04-18\">2020-04-18</time></li><li><time datetime=\"2020-04-19\">2020-04-19</time></li><li><time datetime=\"2020-04-20\">2020-04-20</time></li><li><time datetime=\"2020-04-23\">2020-04-23</time></li><li><time datetime=\"2020-04-24\">2020-04-24</time></li><li><time datetime=\"2020-04-25\">2020-04-25</time></li><li><time datetime=\"2020-04-26\">2020-04-26</time></li><li><time datetime=\"2020-04-29\">2020-04-29</time></li><li><time datetime=\"2020-04-30\">2020-04-30</time></li><li><time datetime=\"2020-05-01\">2020-05-01</time></li><li><time datetime=\"2020-05-02\">2020-05-02</time></li><li><time datetime=\"2020-05-09\">2020-05-09</time></li><li><time datetime=\"2020-05-10\">2020-05-10</time></li><li><time datetime=\"2020-05-19\">2020-05-19</time></li><li><time datetime=\"2020-05-23\">2020-05-23</time></li><li><time datetime=\"2020-05-24\">2020-05-24</time></li><li><time datetime=\"2020-05-25\">2020-05-25</time></li><li><time datetime=\"2020-05-26\">2020-05-26</time></li><li><time datetime=\"2020-05-27\">2020-05-27</time></li><li><time datetime=\"2020-05-30\">2020-05-30</time></li><li><time datetime=\"2020-07-15\">2020-07-15</time></li><li><time datetime=\"2020-07-30\">2020-07-30</time></li><li><time datetime=\"2020-07-31\">2020-07-31</time></li><li><time datetime=\"2020-08-01\">2020-08-01</time></li><li><time datetime=\"2020-08-02\">2020-08-02</time></li><li><time datetime=\"2020-08-03\">2020-08-03</time></li></ol>\n"
      ],
      "text/latex": [
       "\\begin{enumerate*}\n",
       "\\item 2020-01-01\n",
       "\\item 2020-03-31\n",
       "\\item 2020-04-07\n",
       "\\item 2020-04-08\n",
       "\\item 2020-04-09\n",
       "\\item 2020-04-10\n",
       "\\item 2020-04-11\n",
       "\\item 2020-04-12\n",
       "\\item 2020-04-13\n",
       "\\item 2020-04-14\n",
       "\\item 2020-04-15\n",
       "\\item 2020-04-16\n",
       "\\item 2020-04-17\n",
       "\\item 2020-04-18\n",
       "\\item 2020-04-19\n",
       "\\item 2020-04-20\n",
       "\\item 2020-04-23\n",
       "\\item 2020-04-24\n",
       "\\item 2020-04-25\n",
       "\\item 2020-04-26\n",
       "\\item 2020-04-29\n",
       "\\item 2020-04-30\n",
       "\\item 2020-05-01\n",
       "\\item 2020-05-02\n",
       "\\item 2020-05-09\n",
       "\\item 2020-05-10\n",
       "\\item 2020-05-19\n",
       "\\item 2020-05-23\n",
       "\\item 2020-05-24\n",
       "\\item 2020-05-25\n",
       "\\item 2020-05-26\n",
       "\\item 2020-05-27\n",
       "\\item 2020-05-30\n",
       "\\item 2020-07-15\n",
       "\\item 2020-07-30\n",
       "\\item 2020-07-31\n",
       "\\item 2020-08-01\n",
       "\\item 2020-08-02\n",
       "\\item 2020-08-03\n",
       "\\end{enumerate*}\n"
      ],
      "text/markdown": [
       "1. 2020-01-01\n",
       "2. 2020-03-31\n",
       "3. 2020-04-07\n",
       "4. 2020-04-08\n",
       "5. 2020-04-09\n",
       "6. 2020-04-10\n",
       "7. 2020-04-11\n",
       "8. 2020-04-12\n",
       "9. 2020-04-13\n",
       "10. 2020-04-14\n",
       "11. 2020-04-15\n",
       "12. 2020-04-16\n",
       "13. 2020-04-17\n",
       "14. 2020-04-18\n",
       "15. 2020-04-19\n",
       "16. 2020-04-20\n",
       "17. 2020-04-23\n",
       "18. 2020-04-24\n",
       "19. 2020-04-25\n",
       "20. 2020-04-26\n",
       "21. 2020-04-29\n",
       "22. 2020-04-30\n",
       "23. 2020-05-01\n",
       "24. 2020-05-02\n",
       "25. 2020-05-09\n",
       "26. 2020-05-10\n",
       "27. 2020-05-19\n",
       "28. 2020-05-23\n",
       "29. 2020-05-24\n",
       "30. 2020-05-25\n",
       "31. 2020-05-26\n",
       "32. 2020-05-27\n",
       "33. 2020-05-30\n",
       "34. 2020-07-15\n",
       "35. 2020-07-30\n",
       "36. 2020-07-31\n",
       "37. 2020-08-01\n",
       "38. 2020-08-02\n",
       "39. 2020-08-03\n",
       "\n",
       "\n"
      ],
      "text/plain": [
       " [1] \"2020-01-01\" \"2020-03-31\" \"2020-04-07\" \"2020-04-08\" \"2020-04-09\"\n",
       " [6] \"2020-04-10\" \"2020-04-11\" \"2020-04-12\" \"2020-04-13\" \"2020-04-14\"\n",
       "[11] \"2020-04-15\" \"2020-04-16\" \"2020-04-17\" \"2020-04-18\" \"2020-04-19\"\n",
       "[16] \"2020-04-20\" \"2020-04-23\" \"2020-04-24\" \"2020-04-25\" \"2020-04-26\"\n",
       "[21] \"2020-04-29\" \"2020-04-30\" \"2020-05-01\" \"2020-05-02\" \"2020-05-09\"\n",
       "[26] \"2020-05-10\" \"2020-05-19\" \"2020-05-23\" \"2020-05-24\" \"2020-05-25\"\n",
       "[31] \"2020-05-26\" \"2020-05-27\" \"2020-05-30\" \"2020-07-15\" \"2020-07-30\"\n",
       "[36] \"2020-07-31\" \"2020-08-01\" \"2020-08-02\" \"2020-08-03\""
      ]
     },
     "metadata": {},
     "output_type": "display_data"
    }
   ],
   "source": [
    "fit <- lm(Consumption~as.factor(Hour) + weekdays + months + years + T3_max,consumption_and_temp_train)\n",
    "\n",
    "consumption_and_temp_train[,residuals := residuals(fit)]\n",
    "consumption_and_temp_train[,residuals := mean(residuals), by = Date]\n",
    "consumption_and_temp_train[year(Date) == 2017 & residuals < quantile(residuals,0.05),unique(Date)]\n",
    "consumption_and_temp_train[year(Date) == 2018 & residuals < quantile(residuals,0.05),unique(Date)]\n",
    "consumption_and_temp_train[year(Date) == 2019 & residuals < quantile(residuals,0.05),unique(Date)]\n",
    "consumption_and_temp_train[year(Date) == 2020 & residuals < quantile(residuals,0.05),unique(Date)]"
   ]
  },
  {
   "cell_type": "code",
   "execution_count": 8,
   "metadata": {},
   "outputs": [],
   "source": [
    "newyear_dates = c(\"2017-01-01\",\"2018-01-01\",\"2018-12-31\",\"2019-01-01\",\"2020-01-01\",\"2021-01-01\",\"2021-01-02\")\n",
    "\n",
    "ramadan_dates = c(\"2017-06-24\",\"2017-06-25\",\"2017-06-26\",\"2017-06-27\",\"2018-06-14\",\"2018-06-15\",\"2018-06-16\",\"2018-06-17\",\n",
    "                 \"2019-06-03\",\"2019-06-04\",\"2019-06-05\",\"2019-06-06\",\"2019-06-07\",\"2020-05-23\",\"2020-05-24\",\"2020-05-25\",\n",
    "                 \"2020-05-26\",\"2020-05-27\")\n",
    "\n",
    "kurban_dates = c(\"2017-08-30\",\"2017-08-31\",\"2017-09-01\",\"2017-09-02\",\"2017-09-03\",\"2017-09-04\",\"2018-08-20\",\"2018-08-21\",\n",
    "                \"2018-08-22\",\"2018-08-23\",\"2018-08-24\",\"2018-08-25\",\"2019-08-10\",\"2019-08-11\",\"2019-08-12\",\"2019-08-13\",\n",
    "                \"2019-08-14\",\"2020-07-30\",\"2020-07-31\",\"2020-08-01\",\"2020-08-02\",\"2020-08-03\")\n",
    "\n",
    "holidays = c(\"2018-10-29\",\"2019-05-01\",\"2019-07-15\",\"2019-10-29\",\"2020-05-19\",\"2020-07-15\")\n",
    "\n",
    "corona_period = c(\"2020-04-07\",\"2020-04-08\",\"2020-04-09\",\"2020-04-10\",\"2020-04-11\",\"2020-04-12\",\"2020-04-13\",\"2020-04-14\",\n",
    "                 \"2020-04-15\",\"2020-04-16\",\"2020-04-17\",\"2020-04-18\",\"2020-04-19\",\"2020-04-20\",\"2020-04-23\",\"2020-04-24\",\n",
    "                  \"2020-04-25\",\"2020-04-30\",\"2020-05-01\",\"2020-05-02\",\"2020-05-09\",\"2020-05-30\")\n",
    "consumption_and_temp_train[,newyear:= 0]\n",
    "consumption_and_temp_train[Date %in% as.Date(newyear_dates),newyear:=1]\n",
    "\n",
    "consumption_and_temp_train[,ramadan:= 0]\n",
    "consumption_and_temp_train[Date %in% as.Date(ramadan_dates),ramadan:=1]\n",
    "\n",
    "consumption_and_temp_train[,kurban:= 0]\n",
    "consumption_and_temp_train[Date %in% as.Date(kurban_dates),kurban:=1]\n",
    "\n",
    "consumption_and_temp_train[,holiday:= 0]\n",
    "consumption_and_temp_train[Date %in% as.Date(holidays),holiday:=1]\n",
    "\n",
    "consumption_and_temp_train[,corona:= 0]\n",
    "consumption_and_temp_train[Date %in% as.Date(corona_period),corona:=1]\n",
    "consumption_and_temp_train[year(Date) == 2020 & month(Date) == 4,corona:=1]\n"
   ]
  },
  {
   "cell_type": "code",
   "execution_count": 9,
   "metadata": {},
   "outputs": [],
   "source": [
    "fit <- lm(Consumption~as.factor(Hour) + weekdays + months + years + T3_max + newyear +\n",
    "          kurban + ramadan + holiday + corona,consumption_and_temp_train)\n",
    "\n",
    "consumption_and_temp_train[,residuals := residuals(fit)]\n",
    "consumption_and_temp_train[,outlier_big:=0]\n",
    "consumption_and_temp_train[residuals > quantile(residuals,0.99),outlier_big:=1]"
   ]
  },
  {
   "cell_type": "markdown",
   "metadata": {},
   "source": [
    "### Differencing\n",
    "\n",
    "The consumption data is not stationary which is seen from unit root test. To get a stationary data for accurate predictions, daily and weekly differencing methods are used since there can be seen that from autocorrelation plot that there are strong correlations at lag 24 and 168 which corresponds to one day and one week. After using differencing method obtained differenced values may be said to be stationary according to unit root test. By comparing daily and weekly differencing, weekly differencing is chosen because using daily differencing does not provide good prediction results since when two days ahead forecasting is done, the error of first day is added to prediction of second day. \n",
    "\n",
    "\n"
   ]
  },
  {
   "cell_type": "code",
   "execution_count": 10,
   "metadata": {},
   "outputs": [
    {
     "data": {
      "image/png": "[encoded data removed]",
      "text/plain": [
       "Plot with title \"Autocorrelation Function\""
      ]
     },
     "metadata": {
      "image/png": {
       "height": 420,
       "width": 420
      }
     },
     "output_type": "display_data"
    },
    {
     "data": {
      "image/png": "[encoded data removed]",
      "text/plain": [
       "Plot with title \"Partial Autocorrelation Function\""
      ]
     },
     "metadata": {
      "image/png": {
       "height": 420,
       "width": 420
      }
     },
     "output_type": "display_data"
    }
   ],
   "source": [
    "acf(consumption_and_temp_train$Consumption,main = \"Autocorrelation Function\")\n",
    "pacf(consumption_and_temp_train$Consumption,main = \"Partial Autocorrelation Function\")"
   ]
  },
  {
   "cell_type": "code",
   "execution_count": 11,
   "metadata": {},
   "outputs": [
    {
     "name": "stderr",
     "output_type": "stream",
     "text": [
      "Loading required package: urca\n",
      "\n"
     ]
    },
    {
     "data": {
      "text/plain": [
       "\n",
       "####################### \n",
       "# KPSS Unit Root Test # \n",
       "####################### \n",
       "\n",
       "Test is of type: mu with 17 lags. \n",
       "\n",
       "Value of test-statistic is: 10.6481 \n",
       "\n",
       "Critical value for a significance level of: \n",
       "                10pct  5pct 2.5pct  1pct\n",
       "critical values 0.347 0.463  0.574 0.739\n"
      ]
     },
     "metadata": {},
     "output_type": "display_data"
    }
   ],
   "source": [
    "require(urca)\n",
    "unt_test=ur.kpss(consumption_and_temp_train$Consumption) \n",
    "summary(unt_test)"
   ]
  },
  {
   "cell_type": "code",
   "execution_count": 12,
   "metadata": {},
   "outputs": [
    {
     "data": {
      "text/plain": [
       "\n",
       "####################### \n",
       "# KPSS Unit Root Test # \n",
       "####################### \n",
       "\n",
       "Test is of type: mu with 17 lags. \n",
       "\n",
       "Value of test-statistic is: 0.0033 \n",
       "\n",
       "Critical value for a significance level of: \n",
       "                10pct  5pct 2.5pct  1pct\n",
       "critical values 0.347 0.463  0.574 0.739\n"
      ]
     },
     "metadata": {},
     "output_type": "display_data"
    }
   ],
   "source": [
    "consumption_and_temp_train[,differ:= Consumption - shift(Consumption,24)]\n",
    "unt_test=ur.kpss(consumption_and_temp_train$differ) \n",
    "summary(unt_test)"
   ]
  },
  {
   "cell_type": "code",
   "execution_count": 13,
   "metadata": {},
   "outputs": [
    {
     "data": {
      "text/plain": [
       "\n",
       "####################### \n",
       "# KPSS Unit Root Test # \n",
       "####################### \n",
       "\n",
       "Test is of type: mu with 17 lags. \n",
       "\n",
       "Value of test-statistic is: 0.0807 \n",
       "\n",
       "Critical value for a significance level of: \n",
       "                10pct  5pct 2.5pct  1pct\n",
       "critical values 0.347 0.463  0.574 0.739\n"
      ]
     },
     "metadata": {},
     "output_type": "display_data"
    }
   ],
   "source": [
    "consumption_and_temp_train[,differ_168:= Consumption - shift(Consumption,168)]\n",
    "unt_test=ur.kpss(consumption_and_temp_train$differ_168) \n",
    "summary(unt_test)"
   ]
  },
  {
   "cell_type": "code",
   "execution_count": 14,
   "metadata": {},
   "outputs": [
    {
     "data": {
      "image/png": "[encoded data removed]",
      "text/plain": [
       "Plot with title \"Autocorrelation Function\""
      ]
     },
     "metadata": {
      "image/png": {
       "height": 420,
       "width": 420
      }
     },
     "output_type": "display_data"
    },
    {
     "data": {
      "image/png": "[encoded data removed]",
      "text/plain": [
       "Plot with title \"Partial Autocorrelation Function\""
      ]
     },
     "metadata": {
      "image/png": {
       "height": 420,
       "width": 420
      }
     },
     "output_type": "display_data"
    }
   ],
   "source": [
    "acf(consumption_and_temp_train$differ_168,na.action = na.pass,main = \"Autocorrelation Function\")\n",
    "pacf(consumption_and_temp_train$differ_168,na.action = na.pass,main = \"Partial Autocorrelation Function\")"
   ]
  },
  {
   "cell_type": "markdown",
   "metadata": {},
   "source": [
    "### ARIMAX\n",
    "\n",
    "When looking to the autocorrelation and partial autocorrelation functions of differenced values, there can be seen that there are strong correlations at some lags. So ARIMA model is decided to use in this project. Temperature and dummy variables for outliers also may help the model to explain the behavior of data so they are used with ARIMAX model. In order to use them, they are also weekly differed since model is created using weekly differenced electricity consumption values. With the help of these regressors and using \"auto.arima\" function, a model is fitted for each day with the lowest AIC value to use in forecasting.\n",
    "\n",
    "With those models two days ahead forecasts are performed. Forecasted differenced values are transformed to electricity consumption values. WMAPE values are computed for forecasted values. "
   ]
  },
  {
   "cell_type": "code",
   "execution_count": 15,
   "metadata": {},
   "outputs": [],
   "source": [
    "consumption_and_temp_train[,dnewyear:= newyear - shift(newyear,168)]\n",
    "consumption_and_temp_train[,dramadan:= ramadan - shift(ramadan,168)]\n",
    "consumption_and_temp_train[,dkurban:= kurban - shift(kurban,168)]\n",
    "consumption_and_temp_train[,dholiday:= holiday - shift(holiday,168)]\n",
    "consumption_and_temp_train[,dcorona:= corona - shift(corona,168)]\n",
    "consumption_and_temp_train[,doutlier_big := outlier_big - shift(outlier_big,168)]"
   ]
  },
  {
   "cell_type": "code",
   "execution_count": 16,
   "metadata": {},
   "outputs": [],
   "source": [
    "accu = function(actual, forecast){\n",
    "    n = length(actual)\n",
    "    error = actual - forecast\n",
    "    mean = mean(actual)\n",
    "    sd = sd(actual)\n",
    "    FBias = sum(error)/sum(actual)\n",
    "    MAPE = sum(abs(error/actual)) / n\n",
    "    RMSE = sqrt(sum(error^2) / n)\n",
    "    MAD = sum(abs(error)) / n\n",
    "    WMAPE = MAD / mean\n",
    "    l = data.frame(n, mean, sd, FBias, MAPE, RMSE, MAD, WMAPE)\n",
    "    return(l)\n",
    "}"
   ]
  },
  {
   "cell_type": "code",
   "execution_count": 17,
   "metadata": {},
   "outputs": [],
   "source": [
    "reg_matrix = cbind(consumption_and_temp_train$dnewyear,consumption_and_temp_train$dkurban,consumption_and_temp_train$dramadan,\n",
    "                  consumption_and_temp_train$dcorona,consumption_and_temp_train$dholiday,consumption_and_temp_train$doutlier_big,\n",
    "                  consumption_and_temp_train$T3_diff_168)"
   ]
  },
  {
   "cell_type": "markdown",
   "metadata": {},
   "source": [
    "An iterative program to perform 15 days forecast with updating model on train data and updating regressors each day. At the end it will record forecasted values and print WMAPE values for each day"
   ]
  },
  {
   "cell_type": "code",
   "execution_count": 18,
   "metadata": {},
   "outputs": [
    {
     "name": "stdout",
     "output_type": "stream",
     "text": [
      "   n     mean       sd       FBias       MAPE    RMSE      MAD      WMAPE\n",
      "1 24 36032.89 3571.185 0.008200304 0.01739958 871.152 659.2826 0.01829669\n",
      "   n     mean       sd      FBias       MAPE     RMSE      MAD     WMAPE\n",
      "1 24 32258.87 2766.524 -0.0149084 0.01499002 532.3685 480.9283 0.0149084\n",
      "   n     mean       sd       FBias       MAPE    RMSE      MAD      WMAPE\n",
      "1 24 36529.49 5603.447 -0.02563123 0.02422291 1133.35 936.2957 0.02563123\n",
      "   n     mean       sd       FBias       MAPE     RMSE      MAD      WMAPE\n",
      "1 24 36738.57 4429.131 -0.03442018 0.03336326 1399.132 1264.548 0.03442018\n",
      "   n     mean       sd       FBias       MAPE     RMSE      MAD      WMAPE\n",
      "1 24 36360.98 4065.036 -0.04634696 0.04430452 2298.621 1722.087 0.04736087\n",
      "   n     mean       sd       FBias       MAPE     RMSE      MAD      WMAPE\n",
      "1 24 36225.13 4005.511 -0.07019891 0.06647329 3098.518 2542.965 0.07019891\n",
      "   n     mean      sd       FBias       MAPE     RMSE      MAD      WMAPE\n",
      "1 24 35874.14 3867.68 -0.07024367 0.06735762 2877.593 2519.931 0.07024367\n",
      "   n     mean       sd       FBias       MAPE     RMSE     MAD      WMAPE\n",
      "1 24 33381.09 2410.722 -0.05528998 0.05327081 2430.649 1845.64 0.05528998\n",
      "   n     mean       sd       FBias       MAPE     RMSE      MAD      WMAPE\n",
      "1 24 30528.06 2340.854 -0.02827505 0.02957845 1152.083 928.3635 0.03041017\n",
      "   n     mean       sd       FBias      MAPE     RMSE      MAD      WMAPE\n",
      "1 24 35042.15 5142.872 -0.02667583 0.0251479 1108.426 939.1769 0.02680135\n",
      "   n     mean       sd       FBias       MAPE     RMSE      MAD    WMAPE\n",
      "1 24 35522.83 4016.726 -0.01644925 0.01630971 792.5769 619.7312 0.017446\n",
      "   n     mean       sd       FBias       MAPE    RMSE     MAD      WMAPE\n",
      "1 24 35646.33 3978.348 -0.01214308 0.01205597 523.813 439.342 0.01232502\n",
      "   n     mean       sd        FBias        MAPE     RMSE      MAD       WMAPE\n",
      "1 24 35751.07 3850.407 -0.004599043 0.007392395 346.4316 275.9376 0.007718304\n",
      "   n    mean       sd      FBias     MAPE     RMSE      MAD      WMAPE\n",
      "1 24 36345.5 4411.517 0.01407033 0.016925 908.8725 653.4699 0.01797939\n",
      "   n    mean       sd      FBias       MAPE     RMSE      MAD      WMAPE\n",
      "1 24 34274.1 2870.187 0.03041945 0.02951971 1195.372 1042.599 0.03041945\n"
     ]
    }
   ],
   "source": [
    "forecasted_arimax <- c()\n",
    "for(i in 0:14){\n",
    "consumption_and_temp_train = consumption_and_temp[Date < (as.Date(\"2021-01-29\") + i)]\n",
    "\n",
    "consumption_and_temp_train[,newyear:= 0]\n",
    "consumption_and_temp_train[Date %in% as.Date(newyear_dates),newyear:=1]\n",
    "\n",
    "consumption_and_temp_train[,ramadan:= 0]\n",
    "consumption_and_temp_train[Date %in% as.Date(ramadan_dates),ramadan:=1]\n",
    "\n",
    "consumption_and_temp_train[,kurban:= 0]\n",
    "consumption_and_temp_train[Date %in% as.Date(kurban_dates),kurban:=1]\n",
    "\n",
    "consumption_and_temp_train[,holiday:= 0]\n",
    "consumption_and_temp_train[Date %in% as.Date(holidays),holiday:=1]\n",
    "\n",
    "consumption_and_temp_train[,corona:= 0]\n",
    "consumption_and_temp_train[Date %in% as.Date(corona_period),corona:=1]\n",
    "consumption_and_temp_train[year(Date) == 2020 & month(Date) == 4,corona:=1]\n",
    "\n",
    "fit <- lm(Consumption~as.factor(Hour) + weekdays + months + years + T3_max + newyear +\n",
    "          kurban + ramadan + holiday + corona,consumption_and_temp_train)\n",
    "\n",
    "consumption_and_temp_train[,residuals := residuals(fit)]\n",
    "consumption_and_temp_train[,outlier_big:=0]\n",
    "consumption_and_temp_train[residuals > quantile(residuals,0.99),outlier_big:=1]\n",
    "\n",
    "consumption_and_temp_train[,differ_168:= Consumption - shift(Consumption,168)]\n",
    "consumption_and_temp_train[,dnewyear:= newyear - shift(newyear,168)]\n",
    "consumption_and_temp_train[,dramadan:= ramadan - shift(ramadan,168)]\n",
    "consumption_and_temp_train[,dkurban:= kurban - shift(kurban,168)]\n",
    "consumption_and_temp_train[,dholiday:= holiday - shift(holiday,168)]\n",
    "consumption_and_temp_train[,dcorona:= corona - shift(corona,168)]\n",
    "consumption_and_temp_train[,doutlier_big := outlier_big - shift(outlier_big,168)]\n",
    "\n",
    "reg_matrix = cbind(consumption_and_temp_train$dnewyear,consumption_and_temp_train$dkurban,consumption_and_temp_train$dramadan,\n",
    "                  consumption_and_temp_train$dcorona,consumption_and_temp_train$dholiday,consumption_and_temp_train$doutlier_big,\n",
    "                  consumption_and_temp_train$T3_diff_168)\n",
    "\n",
    "fitdiffer = auto.arima(consumption_and_temp_train$differ_168,xreg = reg_matrix,seasonal = F)\n",
    "\n",
    "\n",
    "consumption_and_temp_test = consumption_and_temp[Date >= (as.Date(\"2021-01-29\") + i)]\n",
    "consumption_and_temp_test[,dnewyear:=0]\n",
    "consumption_and_temp_test[,dkurban:=0]\n",
    "consumption_and_temp_test[,dramadan:=0]\n",
    "consumption_and_temp_test[,dholiday:=0]\n",
    "consumption_and_temp_test[,dcorona:=0]\n",
    "consumption_and_temp_test[,doutlier_big:=0]\n",
    "\n",
    "newreg_matrix = cbind(consumption_and_temp_test$dnewyear,consumption_and_temp_test$dkurban,consumption_and_temp_test$dramadan,\n",
    "                  consumption_and_temp_test$dcorona,consumption_and_temp_test$dholiday,consumption_and_temp_test$doutlier_big,\n",
    "                  consumption_and_temp_test$T3_diff_168)\n",
    "\n",
    "forecasteddiffer = forecast(fitdiffer,h = 48,xreg = head(newreg_matrix,48))$mean\n",
    "forecasteddiffer = forecasteddiffer[25:48]\n",
    "\n",
    "\n",
    "consumption_and_temp_test[25:48,fdiffer := forecasteddiffer]\n",
    "consumption_and_temp_test[25:48,fconsumption := forecasteddiffer + tail(head(tail(consumption_and_temp_train$Consumption,168),48),24)]\n",
    "print(consumption_and_temp_test[25:48,accu(Consumption,fconsumption)])\n",
    "forecasted_arimax <- c(forecasted_arimax,consumption_and_temp_test[25:48]$fconsumption)\n",
    "    \n",
    "}"
   ]
  },
  {
   "cell_type": "markdown",
   "metadata": {},
   "source": [
    "## Naive forecast\n",
    "\n",
    "Naive forecast is done with using lag 168 values since previous week's values have mostly a similar pattern as current week's values. WMAPE values are computed for forecasted values.  "
   ]
  },
  {
   "cell_type": "code",
   "execution_count": 19,
   "metadata": {},
   "outputs": [
    {
     "name": "stdout",
     "output_type": "stream",
     "text": [
      "   n     mean       sd      FBias       MAPE     RMSE      MAD      WMAPE\n",
      "1 24 36032.89 3571.185 0.01102296 0.01702184 910.0473 652.4625 0.01810742\n",
      "   n     mean       sd        FBias        MAPE     RMSE      MAD       WMAPE\n",
      "1 24 32258.87 2766.524 -0.009629405 0.009768566 390.3319 315.4896 0.009779932\n",
      "   n     mean       sd       FBias       MAPE     RMSE      MAD      WMAPE\n",
      "1 24 36529.49 5603.447 -0.02759382 0.02629417 1186.134 1007.988 0.02759382\n",
      "   n     mean       sd       FBias       MAPE     RMSE     MAD      WMAPE\n",
      "1 24 36738.57 4429.131 -0.03757114 0.03662227 1499.171 1380.31 0.03757114\n",
      "   n     mean       sd       FBias      MAPE     RMSE      MAD      WMAPE\n",
      "1 24 36360.98 4065.036 -0.05913576 0.0562557 2629.283 2150.234 0.05913576\n",
      "   n     mean       sd       FBias       MAPE     RMSE      MAD      WMAPE\n",
      "1 24 36225.13 4005.511 -0.08495065 0.08161405 3526.686 3077.348 0.08495065\n",
      "   n     mean      sd       FBias       MAPE     RMSE      MAD      WMAPE\n",
      "1 24 35874.14 3867.68 -0.08962346 0.08725999 3476.614 3215.165 0.08962346\n",
      "   n     mean       sd       FBias       MAPE     RMSE      MAD      WMAPE\n",
      "1 24 33381.09 2410.722 -0.07944024 0.07779522 3059.313 2651.802 0.07944024\n",
      "   n     mean       sd       FBias      MAPE     RMSE      MAD      WMAPE\n",
      "1 24 30528.06 2340.854 -0.05669589 0.0560704 1861.119 1730.815 0.05669589\n",
      "   n     mean       sd       FBias       MAPE     RMSE      MAD      WMAPE\n",
      "1 24 35042.15 5142.872 -0.04244438 0.04149457 1590.812 1487.342 0.04244438\n",
      "   n     mean       sd      FBias      MAPE     RMSE      MAD     WMAPE\n",
      "1 24 35522.83 4016.726 -0.0342241 0.0333839 1310.019 1215.737 0.0342241\n",
      "   n     mean       sd       FBias       MAPE     RMSE      MAD      WMAPE\n",
      "1 24 35646.33 3978.348 -0.02004813 0.02004477 769.1081 714.6425 0.02004813\n",
      "   n     mean       sd       FBias       MAPE    RMSE      MAD      WMAPE\n",
      "1 24 35751.07 3850.407 -0.01326008 0.01338702 549.909 490.6096 0.01372293\n",
      "   n    mean       sd      FBias       MAPE     RMSE     MAD      WMAPE\n",
      "1 24 36345.5 4411.517 0.01296885 0.01732672 896.8284 663.115 0.01824476\n",
      "   n    mean       sd      FBias       MAPE     RMSE      MAD     WMAPE\n",
      "1 24 34274.1 2870.187 0.02605497 0.02521036 1077.966 897.8512 0.0261962\n"
     ]
    }
   ],
   "source": [
    "consumption_and_temp[,naive_forecasted:= shift(Consumption,168)]\n",
    "naive_forecasted = consumption_and_temp[Date %between% as.Date(c(\"2021-01-30\",\"2021-02-13\")),naive_forecasted]\n",
    "for(i in 0:14){\n",
    "print(consumption_and_temp[Date == (as.Date(\"2021-01-30\") + i),accu(Consumption,naive_forecasted)])\n",
    "    }"
   ]
  },
  {
   "cell_type": "markdown",
   "metadata": {},
   "source": [
    "## Results\n",
    "\n",
    "Naive forecast and ARIMAX methods are used. Forecasted values are obtained by using these methods for the time period from 30-01-2021 to 13-02-2021. WMAPE values are calculated for both methods with the following formula. \n",
    "By comparing WMAPE values of ARIMAX and naive forecast methods, it can be seen that WMAPE values are lower in ARIMAX method, so it has better performance than naive forecast. "
   ]
  },
  {
   "cell_type": "markdown",
   "metadata": {},
   "source": [
    "Overal wmape value for 15 days forecast to compare overall performance of Naive forecast and ARIMAX model."
   ]
  },
  {
   "cell_type": "code",
   "execution_count": 22,
   "metadata": {},
   "outputs": [
    {
     "data": {
      "text/html": [
       "<table>\n",
       "<caption>A data.frame: 1 × 8</caption>\n",
       "<thead>\n",
       "\t<tr><th scope=col>n</th><th scope=col>mean</th><th scope=col>sd</th><th scope=col>FBias</th><th scope=col>MAPE</th><th scope=col>RMSE</th><th scope=col>MAD</th><th scope=col>WMAPE</th></tr>\n",
       "\t<tr><th scope=col>&lt;int&gt;</th><th scope=col>&lt;dbl&gt;</th><th scope=col>&lt;dbl&gt;</th><th scope=col>&lt;dbl&gt;</th><th scope=col>&lt;dbl&gt;</th><th scope=col>&lt;dbl&gt;</th><th scope=col>&lt;dbl&gt;</th><th scope=col>&lt;dbl&gt;</th></tr>\n",
       "</thead>\n",
       "<tbody>\n",
       "\t<tr><td>360</td><td>35100.75</td><td>4214.308</td><td>-0.03353114</td><td>0.03996997</td><td>1932.23</td><td>1443.394</td><td>0.04112147</td></tr>\n",
       "</tbody>\n",
       "</table>\n"
      ],
      "text/latex": [
       "A data.frame: 1 × 8\n",
       "\\begin{tabular}{llllllll}\n",
       " n & mean & sd & FBias & MAPE & RMSE & MAD & WMAPE\\\\\n",
       " <int> & <dbl> & <dbl> & <dbl> & <dbl> & <dbl> & <dbl> & <dbl>\\\\\n",
       "\\hline\n",
       "\t 360 & 35100.75 & 4214.308 & -0.03353114 & 0.03996997 & 1932.23 & 1443.394 & 0.04112147\\\\\n",
       "\\end{tabular}\n"
      ],
      "text/markdown": [
       "\n",
       "A data.frame: 1 × 8\n",
       "\n",
       "| n &lt;int&gt; | mean &lt;dbl&gt; | sd &lt;dbl&gt; | FBias &lt;dbl&gt; | MAPE &lt;dbl&gt; | RMSE &lt;dbl&gt; | MAD &lt;dbl&gt; | WMAPE &lt;dbl&gt; |\n",
       "|---|---|---|---|---|---|---|---|\n",
       "| 360 | 35100.75 | 4214.308 | -0.03353114 | 0.03996997 | 1932.23 | 1443.394 | 0.04112147 |\n",
       "\n"
      ],
      "text/plain": [
       "  n   mean     sd       FBias       MAPE       RMSE    MAD      WMAPE     \n",
       "1 360 35100.75 4214.308 -0.03353114 0.03996997 1932.23 1443.394 0.04112147"
      ]
     },
     "metadata": {},
     "output_type": "display_data"
    },
    {
     "data": {
      "text/html": [
       "<table>\n",
       "<caption>A data.frame: 1 × 8</caption>\n",
       "<thead>\n",
       "\t<tr><th scope=col>n</th><th scope=col>mean</th><th scope=col>sd</th><th scope=col>FBias</th><th scope=col>MAPE</th><th scope=col>RMSE</th><th scope=col>MAD</th><th scope=col>WMAPE</th></tr>\n",
       "\t<tr><th scope=col>&lt;int&gt;</th><th scope=col>&lt;dbl&gt;</th><th scope=col>&lt;dbl&gt;</th><th scope=col>&lt;dbl&gt;</th><th scope=col>&lt;dbl&gt;</th><th scope=col>&lt;dbl&gt;</th><th scope=col>&lt;dbl&gt;</th><th scope=col>&lt;dbl&gt;</th></tr>\n",
       "</thead>\n",
       "<tbody>\n",
       "\t<tr><td>360</td><td>35100.75</td><td>4214.308</td><td>-0.02356192</td><td>0.03055408</td><td>1616.393</td><td>1124.687</td><td>0.03204167</td></tr>\n",
       "</tbody>\n",
       "</table>\n"
      ],
      "text/latex": [
       "A data.frame: 1 × 8\n",
       "\\begin{tabular}{llllllll}\n",
       " n & mean & sd & FBias & MAPE & RMSE & MAD & WMAPE\\\\\n",
       " <int> & <dbl> & <dbl> & <dbl> & <dbl> & <dbl> & <dbl> & <dbl>\\\\\n",
       "\\hline\n",
       "\t 360 & 35100.75 & 4214.308 & -0.02356192 & 0.03055408 & 1616.393 & 1124.687 & 0.03204167\\\\\n",
       "\\end{tabular}\n"
      ],
      "text/markdown": [
       "\n",
       "A data.frame: 1 × 8\n",
       "\n",
       "| n &lt;int&gt; | mean &lt;dbl&gt; | sd &lt;dbl&gt; | FBias &lt;dbl&gt; | MAPE &lt;dbl&gt; | RMSE &lt;dbl&gt; | MAD &lt;dbl&gt; | WMAPE &lt;dbl&gt; |\n",
       "|---|---|---|---|---|---|---|---|\n",
       "| 360 | 35100.75 | 4214.308 | -0.02356192 | 0.03055408 | 1616.393 | 1124.687 | 0.03204167 |\n",
       "\n"
      ],
      "text/plain": [
       "  n   mean     sd       FBias       MAPE       RMSE     MAD      WMAPE     \n",
       "1 360 35100.75 4214.308 -0.02356192 0.03055408 1616.393 1124.687 0.03204167"
      ]
     },
     "metadata": {},
     "output_type": "display_data"
    }
   ],
   "source": [
    "consumption_and_temp[Date %between% as.Date(c(\"2021-01-30\",\"2021-02-13\")),naive_forecasted:=naive_forecasted]\n",
    "consumption_and_temp[Date %between% as.Date(c(\"2021-01-30\",\"2021-02-13\")),forecasted_arimax:=forecasted_arimax]\n",
    "accu(consumption_and_temp[Date %between% as.Date(c(\"2021-01-30\",\"2021-02-13\"))]$Consumption,naive_forecasted)\n",
    "accu(consumption_and_temp[Date %between% as.Date(c(\"2021-01-30\",\"2021-02-13\"))]$Consumption,forecasted_arimax)"
   ]
  },
  {
   "cell_type": "code",
   "execution_count": 24,
   "metadata": {},
   "outputs": [
    {
     "data": {
      "image/png": "[encoded data removed]",
      "text/plain": [
       "plot without title"
      ]
     },
     "metadata": {
      "image/png": {
       "height": 420,
       "width": 420
      }
     },
     "output_type": "display_data"
    },
    {
     "data": {
      "image/png": "[encoded data removed]",
      "text/plain": [
       "plot without title"
      ]
     },
     "metadata": {
      "image/png": {
       "height": 420,
       "width": 420
      }
     },
     "output_type": "display_data"
    }
   ],
   "source": [
    "cols <- c(\"predicted\" = \"orange\", \"actual\" = \"blue\")\n",
    "ggplot() + \n",
    "  geom_line(data = consumption_and_temp[Date %between% as.Date(c(\"2021-01-30\",\"2021-02-13\"))], aes(x = timestamp, y = naive_forecasted,color = \"predicted\")) +  \n",
    "  geom_line(data = consumption_and_temp[Date %between% as.Date(c(\"2021-01-30\",\"2021-02-13\"))], aes(x = timestamp, y = Consumption,color = \"actual\")) +\n",
    "  labs(xlab = \"Date\", \n",
    "       title = 'Actual vs Naive Forcasted Hourly Electricity Consumption' ) +\n",
    "  scale_color_manual(values = cols)\n",
    "\n",
    "cols <- c(\"predicted\" = \"orange\", \"actual\" = \"blue\")\n",
    "ggplot() + \n",
    "  geom_line(data = consumption_and_temp[Date %between% as.Date(c(\"2021-01-30\",\"2021-02-13\"))], aes(x = timestamp, y = forecasted_arimax,color = \"predicted\")) +  \n",
    "  geom_line(data = consumption_and_temp[Date %between% as.Date(c(\"2021-01-30\",\"2021-02-13\"))], aes(x = timestamp, y = Consumption,color = \"actual\")) +\n",
    "  labs(xlab = \"Date\",\n",
    "       title = 'Actual vs ARIMAX Forecasted Hourly Electricity Consumption' ) +\n",
    "  scale_color_manual(values = cols)"
   ]
  },
  {
   "cell_type": "markdown",
   "metadata": {},
   "source": [
    "\n",
    "## Conclusion and Future Works\n",
    "\n",
    "As mentioned above, there are several approaches to create a forecast and we used two methods to understand which method should be used for electricity consumption values in this project. We tested our approaches using test data set which created from existed time series for electricity consumption values and choose least WMAPE value.\n",
    "\n",
    "In the first days of submission 24 hour differencing technique was used. However high WMAPE values which indicates that this approach is not good enough for accurate predictions are obtained. The reason of getting bad results using 24 hour differencing technique is that when two days ahead forecasting is done, error of first day is added to prediction of second day. So 168 hour differencing is decided to use.\n",
    "\n",
    "To get more accurate predictions, further outlier analysis can be done, GAM(Generalized Additive Models), linear regression or simple moving average methods can be used instead of ARIMAX models. Further test of different models can be useful. A better approach for using temperature values can be useful also."
   ]
  }
 ],
 "metadata": {
  "kernelspec": {
   "display_name": "R",
   "language": "R",
   "name": "ir"
  },
  "language_info": {
   "codemirror_mode": "r",
   "file_extension": ".r",
   "mimetype": "text/x-r-source",
   "name": "R",
   "pygments_lexer": "r",
   "version": "4.0.3"
  }
 },
 "nbformat": 4,
 "nbformat_minor": 4
}
